{
 "cells": [
  {
   "cell_type": "markdown",
   "metadata": {},
   "source": [
    "# Intelligent k-means  \n",
    "1. Find c, the centre of the data set (i.e. mean of all data, per feature). and Set Z={}.\n",
    "2. Find t, the farthest point from c.\n",
    "3. run k-means on the data set with 2 centroids. That is c and t (i.e. k=2). REMEMBER: c does not move. This will find clusters S1 (with t) and S2(with c)\n",
    "4. If |S1|>= theta (a parameter) then save t to Z.\n",
    "5. Remove S1 from Data set.\n",
    "6. If there is still data, go back to Step 2.\n",
    "7. Run the usual kmeans on the whole data set with k=|Z|, and the points in Z as initial centroids.  \n",
    "\n",
    "* If you know K:  \n",
    "    * In Step 4 (when you save t to Z) save also the value of |S1| (and set theta to 1)\n",
    "    * New step (between 6 and 7). Select from Z the K values of t with the highest cardinality. Remove all other values from Z"
   ]
  },
  {
   "cell_type": "code",
   "execution_count": 1,
   "metadata": {},
   "outputs": [],
   "source": [
    "from sklearn.datasets import load_iris\n",
    "import numpy as np\n",
    "# Load the Iris dataset\n",
    "iris = load_iris()\n",
    "\n",
    "# Access the features (X) and target (y) data\n",
    "X = iris.data\n",
    "y = iris.target\n",
    "\n",
    "import numpy as np\n",
    "def normalizer(data):\n",
    "    return (data - np.mean(data,axis=0)) / (np.max(data, axis=0) - np.min(data, axis=0))\n",
    "X = normalizer(X)\n"
   ]
  },
  {
   "cell_type": "code",
   "execution_count": 2,
   "metadata": {},
   "outputs": [],
   "source": [
    "def euclidean(point, data):\n",
    "    \"\"\"\n",
    "    Euclidean distance between point & data.\n",
    "    Point has dimensions (m,), data has dimensions (n,m), and output will be of size (n,).\n",
    "    \"\"\"\n",
    "    return np.sqrt(np.sum((point - data)**2, axis=1))"
   ]
  },
  {
   "cell_type": "markdown",
   "metadata": {},
   "source": [
    "# 1\n",
    " Find c, the centre of the data set (i.e. mean of all data, per feature).And Set Z={}\n"
   ]
  },
  {
   "cell_type": "code",
   "execution_count": 3,
   "metadata": {},
   "outputs": [
    {
     "data": {
      "text/plain": [
       "array([-2.82089167e-16, -3.36628873e-16, -3.93389025e-16, -2.94209102e-16])"
      ]
     },
     "execution_count": 3,
     "metadata": {},
     "output_type": "execute_result"
    }
   ],
   "source": [
    "\n",
    "c = np.mean(X, axis=0)\n",
    "c"
   ]
  },
  {
   "cell_type": "code",
   "execution_count": 4,
   "metadata": {},
   "outputs": [
    {
     "data": {
      "text/plain": [
       "array([0.64012732, 0.63430491, 0.67182024, 0.66290634, 0.66265547,\n",
       "       0.60913166, 0.66318313, 0.62857853, 0.70579584, 0.65212171,\n",
       "       0.63774484, 0.64151398, 0.67387471, 0.77274208, 0.71817314,\n",
       "       0.75627884, 0.65033416, 0.61384039, 0.59952375, 0.65213157,\n",
       "       0.57497962, 0.60969986, 0.74986883, 0.50934904, 0.6139458 ,\n",
       "       0.60217119, 0.56566002, 0.6211303 , 0.6208294 , 0.64153002,\n",
       "       0.62567623, 0.54124425, 0.759579  , 0.75424527, 0.62356037,\n",
       "       0.6478923 , 0.62454704, 0.69952374, 0.71292077, 0.61876342,\n",
       "       0.63472666, 0.74350227, 0.71499579, 0.53389203, 0.5903288 ,\n",
       "       0.62024913, 0.66749722, 0.67522068, 0.64368599, 0.63103842,\n",
       "       0.37315869, 0.24280598, 0.37366951, 0.33483211, 0.28430664,\n",
       "       0.17509261, 0.28227103, 0.39573062, 0.26570916, 0.24834048,\n",
       "       0.50771747, 0.14874564, 0.37159412, 0.20460487, 0.10650247,\n",
       "       0.2752701 , 0.19144247, 0.18047461, 0.41101602, 0.24655267,\n",
       "       0.31242844, 0.14149733, 0.35096764, 0.20511335, 0.19597515,\n",
       "       0.25215015, 0.34683817, 0.38082734, 0.19417048, 0.21611819,\n",
       "       0.29304325, 0.30183687, 0.15130145, 0.32197699, 0.21736358,\n",
       "       0.25683859, 0.31325482, 0.35953641, 0.10128595, 0.25780689,\n",
       "       0.23926428, 0.18169022, 0.19529152, 0.40911723, 0.1846843 ,\n",
       "       0.0881378 , 0.11512768, 0.1559218 , 0.33879274, 0.13491193,\n",
       "       0.68148267, 0.39910064, 0.62854015, 0.42485156, 0.57225186,\n",
       "       0.78201147, 0.42652717, 0.6452063 , 0.54127524, 0.80275523,\n",
       "       0.44703406, 0.44678485, 0.5469893 , 0.45948076, 0.56005029,\n",
       "       0.55324049, 0.42855241, 0.88556928, 0.89231467, 0.43532737,\n",
       "       0.6390245 , 0.40598885, 0.7983905 , 0.37197241, 0.56216068,\n",
       "       0.59379283, 0.33932638, 0.32520458, 0.52317425, 0.53874375,\n",
       "       0.66428379, 0.85671086, 0.55382358, 0.30825232, 0.38191145,\n",
       "       0.79652493, 0.61985942, 0.4171815 , 0.31031381, 0.55204737,\n",
       "       0.63615347, 0.59036454, 0.39910064, 0.64519908, 0.68475909,\n",
       "       0.57206283, 0.44672579, 0.4526303 , 0.5638963 , 0.33940299])"
      ]
     },
     "execution_count": 4,
     "metadata": {},
     "output_type": "execute_result"
    }
   ],
   "source": [
    "D = euclidean(c, X)\n",
    "D"
   ]
  },
  {
   "cell_type": "code",
   "execution_count": 6,
   "metadata": {},
   "outputs": [],
   "source": [
    "Z={}"
   ]
  },
  {
   "cell_type": "markdown",
   "metadata": {},
   "source": [
    "# 2 \n",
    "Find t, the farthest point from c."
   ]
  },
  {
   "cell_type": "code",
   "execution_count": 7,
   "metadata": {},
   "outputs": [
    {
     "data": {
      "text/plain": [
       "array([ 0.51574074, -0.19055556,  0.53254237,  0.45861111])"
      ]
     },
     "execution_count": 7,
     "metadata": {},
     "output_type": "execute_result"
    }
   ],
   "source": [
    "\n",
    "# D is the list of Distances to the Center of all data\n",
    "D = euclidean(c, X)\n",
    "ind_t = np.argmax(D)\n",
    "t = X[ind_t]\n",
    "t"
   ]
  },
  {
   "cell_type": "code",
   "execution_count": 8,
   "metadata": {},
   "outputs": [
    {
     "data": {
      "text/plain": [
       "118"
      ]
     },
     "execution_count": 8,
     "metadata": {},
     "output_type": "execute_result"
    }
   ],
   "source": [
    "ind_t"
   ]
  },
  {
   "cell_type": "code",
   "execution_count": 9,
   "metadata": {},
   "outputs": [
    {
     "data": {
      "text/plain": [
       "array([0.64012732, 0.63430491, 0.67182024, 0.66290634, 0.66265547,\n",
       "       0.60913166, 0.66318313, 0.62857853, 0.70579584, 0.65212171,\n",
       "       0.63774484, 0.64151398, 0.67387471, 0.77274208, 0.71817314,\n",
       "       0.75627884, 0.65033416, 0.61384039, 0.59952375, 0.65213157,\n",
       "       0.57497962, 0.60969986, 0.74986883, 0.50934904, 0.6139458 ,\n",
       "       0.60217119, 0.56566002, 0.6211303 , 0.6208294 , 0.64153002,\n",
       "       0.62567623, 0.54124425, 0.759579  , 0.75424527, 0.62356037,\n",
       "       0.6478923 , 0.62454704, 0.69952374, 0.71292077, 0.61876342,\n",
       "       0.63472666, 0.74350227, 0.71499579, 0.53389203, 0.5903288 ,\n",
       "       0.62024913, 0.66749722, 0.67522068, 0.64368599, 0.63103842,\n",
       "       0.37315869, 0.24280598, 0.37366951, 0.33483211, 0.28430664,\n",
       "       0.17509261, 0.28227103, 0.39573062, 0.26570916, 0.24834048,\n",
       "       0.50771747, 0.14874564, 0.37159412, 0.20460487, 0.10650247,\n",
       "       0.2752701 , 0.19144247, 0.18047461, 0.41101602, 0.24655267,\n",
       "       0.31242844, 0.14149733, 0.35096764, 0.20511335, 0.19597515,\n",
       "       0.25215015, 0.34683817, 0.38082734, 0.19417048, 0.21611819,\n",
       "       0.29304325, 0.30183687, 0.15130145, 0.32197699, 0.21736358,\n",
       "       0.25683859, 0.31325482, 0.35953641, 0.10128595, 0.25780689,\n",
       "       0.23926428, 0.18169022, 0.19529152, 0.40911723, 0.1846843 ,\n",
       "       0.0881378 , 0.11512768, 0.1559218 , 0.33879274, 0.13491193,\n",
       "       0.68148267, 0.39910064, 0.62854015, 0.42485156, 0.57225186,\n",
       "       0.78201147, 0.42652717, 0.6452063 , 0.54127524, 0.80275523,\n",
       "       0.44703406, 0.44678485, 0.5469893 , 0.45948076, 0.56005029,\n",
       "       0.55324049, 0.42855241, 0.88556928, 0.89231467, 0.43532737,\n",
       "       0.6390245 , 0.40598885, 0.7983905 , 0.37197241, 0.56216068,\n",
       "       0.59379283, 0.33932638, 0.32520458, 0.52317425, 0.53874375,\n",
       "       0.66428379, 0.85671086, 0.55382358, 0.30825232, 0.38191145,\n",
       "       0.79652493, 0.61985942, 0.4171815 , 0.31031381, 0.55204737,\n",
       "       0.63615347, 0.59036454, 0.39910064, 0.64519908, 0.68475909,\n",
       "       0.57206283, 0.44672579, 0.4526303 , 0.5638963 , 0.33940299])"
      ]
     },
     "execution_count": 9,
     "metadata": {},
     "output_type": "execute_result"
    }
   ],
   "source": [
    "D"
   ]
  },
  {
   "cell_type": "markdown",
   "metadata": {},
   "source": [
    "# 3\n",
    "run k-means on the data set with 2 centroids. That is c and t (i.e. k=2).  \n",
    "REMEMBER: c does not move. This will find clusters S1 (with t) and S2(with c)"
   ]
  },
  {
   "cell_type": "markdown",
   "metadata": {},
   "source": [
    "## 3.1 Calculation of distances of points to 2 centers\n"
   ]
  },
  {
   "cell_type": "code",
   "execution_count": 10,
   "metadata": {},
   "outputs": [
    {
     "data": {
      "text/plain": [
       "[(0.640127323694405, 1.5155388804920498),\n",
       " (0.6343049133109797, 1.505770304327392),\n",
       " (0.6718202415519157, 1.5567466053077967),\n",
       " (0.662906343355017, 1.5453900615477882),\n",
       " (0.6626554688339579, 1.5397205172116797),\n",
       " (0.609131661458607, 1.45089840459788),\n",
       " (0.6631831261822927, 1.5543715968989071),\n",
       " (0.6285785331394114, 1.508948783088743),\n",
       " (0.7057958374790212, 1.5781416089151405),\n",
       " (0.6521217074249925, 1.5252242936808935),\n",
       " (0.6377448413054864, 1.4904911189483854),\n",
       " (0.6415139818381471, 1.5272877559509286),\n",
       " (0.6738747111612295, 1.5446612795863908),\n",
       " (0.772742080012449, 1.65118740089812),\n",
       " (0.7181731445057643, 1.5224337901570477),\n",
       " (0.7562788375610046, 1.5282566555698816),\n",
       " (0.6503341565289145, 1.493053398217047),\n",
       " (0.6138403925917538, 1.491870484568798),\n",
       " (0.5995237498801322, 1.4247367121623533),\n",
       " (0.6521315675361775, 1.5178075311415264),\n",
       " (0.5749796224010971, 1.4358632952641752),\n",
       " (0.6096998562493889, 1.4819246987283283),\n",
       " (0.749868833356331, 1.6372991347918449),\n",
       " (0.5093490382043714, 1.3949776564325882),\n",
       " (0.6139457996067449, 1.4979453574677195),\n",
       " (0.602171194712576, 1.4706647486962723),\n",
       " (0.565660020553585, 1.451653969616146),\n",
       " (0.6211302961148149, 1.492043365755044),\n",
       " (0.6208293991134246, 1.492646092529088),\n",
       " (0.6415300188031123, 1.5262769963949978),\n",
       " (0.6256762297301937, 1.5049583237233812),\n",
       " (0.5412442465870763, 1.408444728571834),\n",
       " (0.7595789966547817, 1.597136870487754),\n",
       " (0.7542452737186974, 1.5660553612753898),\n",
       " (0.6235603708621181, 1.5005520211764078),\n",
       " (0.6478923020353171, 1.52445973542043),\n",
       " (0.6245470364551275, 1.4766845766162662),\n",
       " (0.6995237406916153, 1.5772857447226603),\n",
       " (0.7129207650263721, 1.592033637913615),\n",
       " (0.6187634232643238, 1.4953365401328902),\n",
       " (0.63472665832312, 1.5160672785656146),\n",
       " (0.743502270513874, 1.54954298098745),\n",
       " (0.7149957903154052, 1.602901533616673),\n",
       " (0.5338920333710989, 1.4183839876391735),\n",
       " (0.5903287955284529, 1.4548283332215792),\n",
       " (0.6202491259119052, 1.4967114402315942),\n",
       " (0.6674972169026975, 1.5310721614449454),\n",
       " (0.6752206824172597, 1.561614711025259),\n",
       " (0.6436859881464252, 1.5026074696216494),\n",
       " (0.6310384240264412, 1.5106944113406706),\n",
       " (0.37315869308311467, 0.6164204308563654),\n",
       " (0.2428059835241569, 0.6851875935071186),\n",
       " (0.37366951019207145, 0.564629182472994),\n",
       " (0.33483211124994017, 0.8968222473859341),\n",
       " (0.2843066391464694, 0.6173609090347504),\n",
       " (0.17509260558987774, 0.8091150866726324),\n",
       " (0.2822710345970152, 0.6785381068090147),\n",
       " (0.39573062440700973, 1.1303062869043745),\n",
       " (0.26570915602918194, 0.6592178198285618),\n",
       " (0.2483404753295202, 0.9397662434057881),\n",
       " (0.5077174731319662, 1.1182536644695265),\n",
       " (0.14874564482292812, 0.7735059589992571),\n",
       " (0.3715941239172836, 0.8864376034938043),\n",
       " (0.2046048654461543, 0.7020123715429589),\n",
       " (0.10650246993155396, 0.9177990120353289),\n",
       " (0.2752701032048211, 0.663878286318606),\n",
       " (0.1914424688677044, 0.8028924954710505),\n",
       " (0.18047461247927948, 0.8938181631507409),\n",
       " (0.4110160209814768, 0.6913535221701441),\n",
       " (0.24655266785078728, 0.9222582521197907),\n",
       " (0.3124284412654903, 0.6946873477959112),\n",
       " (0.1414973262693546, 0.7871998868933329),\n",
       " (0.35096764176093487, 0.61562269198374),\n",
       " (0.20511334500117795, 0.7440331032207226),\n",
       " (0.19597514861922177, 0.7168224434869063),\n",
       " (0.2521501530383048, 0.664313994093932),\n",
       " (0.34683816989594585, 0.5803078302542403),\n",
       " (0.3808273418517886, 0.5207149923542704),\n",
       " (0.1941704756616521, 0.7177740806748799),\n",
       " (0.2161181937639039, 0.9665056820361514),\n",
       " (0.2930432497400213, 0.9520878790155066),\n",
       " (0.30183686853478064, 0.9838558607723059),\n",
       " (0.15130144576097476, 0.8653908556171411),\n",
       " (0.3219769904106857, 0.6347252041735446),\n",
       " (0.21736358182798693, 0.8441194191887968),\n",
       " (0.2568385923251432, 0.7646202164036164),\n",
       " (0.31325482129251314, 0.6088636040345061),\n",
       " (0.3595364071583048, 0.7211218943096489),\n",
       " (0.10128594646441448, 0.8757221613273772),\n",
       " (0.2578068939651229, 0.8890451363780518),\n",
       " (0.23926427888527704, 0.8735401204342546),\n",
       " (0.1816902171874108, 0.7196537134711773),\n",
       " (0.19529151874055736, 0.8545268101892903),\n",
       " (0.4091172253135944, 1.1152733235248533),\n",
       " (0.18468430237880723, 0.8514972576106583),\n",
       " (0.08813779534918613, 0.8694318703897022),\n",
       " (0.11512767729840698, 0.8410116920341979),\n",
       " (0.15592180306347392, 0.7463539991383101),\n",
       " (0.33879273835212625, 1.100129290787974),\n",
       " (0.13491193343239857, 0.8452337948978517),\n",
       " (0.6814826703391401, 0.5162534574357813),\n",
       " (0.39910064178301974, 0.6333561191794368),\n",
       " (0.6285401471159549, 0.3020387014779108),\n",
       " (0.42485155743328135, 0.5087353075331945),\n",
       " (0.5722518626144747, 0.41879007438149685),\n",
       " (0.7820114667391734, 0.19513915831435635),\n",
       " (0.4265271675374017, 0.913588570053891),\n",
       " (0.6452062971108877, 0.2858589032699348),\n",
       " (0.541275236371048, 0.39630734173934884),\n",
       " (0.8027552325462456, 0.46715222402793044),\n",
       " (0.4470340589302282, 0.5313311709359896),\n",
       " (0.4467848537426514, 0.4831740980892644),\n",
       " (0.546989301021701, 0.3918263410179678),\n",
       " (0.4594807627069754, 0.6555218669711352),\n",
       " (0.5600502854848111, 0.6166900683233868),\n",
       " (0.5532404891791415, 0.5161814798842411),\n",
       " (0.42855241450191234, 0.48846425248934355),\n",
       " (0.885569281287001, 0.5028769294755223),\n",
       " (0.8923146651050666, 0.0),\n",
       " (0.43532736759454504, 0.6823404925013261),\n",
       " (0.639024498805573, 0.39147176041657045),\n",
       " (0.4059888522049248, 0.6911994871121305),\n",
       " (0.7983905037033068, 0.15400824501325538),\n",
       " (0.3719724058964819, 0.5579273837624154),\n",
       " (0.5621606844813986, 0.45884834735489166),\n",
       " (0.5937928311026173, 0.3853077688794277),\n",
       " (0.33932638433978984, 0.5921537526211187),\n",
       " (0.3252045788015907, 0.6193713978825116),\n",
       " (0.5231742486143174, 0.43913482087927364),\n",
       " (0.5387437498575659, 0.40853087041186),\n",
       " (0.6642837942213782, 0.24505547957261162),\n",
       " (0.8567108613152247, 0.5252554274357399),\n",
       " (0.5538235763060425, 0.4331640077099417),\n",
       " (0.3082523170973709, 0.6019691234223635),\n",
       " (0.38191145065518856, 0.6218561985293808),\n",
       " (0.7965249347075265, 0.2148564618057223),\n",
       " (0.6198594176951228, 0.559134203546285),\n",
       " (0.4171814981852549, 0.5229841770233238),\n",
       " (0.31031380646629364, 0.6487388658975112),\n",
       " (0.5520473718669399, 0.4054214312911264),\n",
       " (0.6361534662994146, 0.41333842087075706),\n",
       " (0.5903645428589304, 0.43111738067985506),\n",
       " (0.39910064178301974, 0.6333561191794368),\n",
       " (0.6451990796173032, 0.39208082991962584),\n",
       " (0.6847590857717516, 0.4588483473548917),\n",
       " (0.5720628251628442, 0.4335439904846738),\n",
       " (0.44672578761749937, 0.5333425620065336),\n",
       " (0.4526303002346358, 0.48737666026321524),\n",
       " (0.563896300227896, 0.5910658346586806),\n",
       " (0.3394029877818398, 0.6436281983044667)]"
      ]
     },
     "execution_count": 10,
     "metadata": {},
     "output_type": "execute_result"
    }
   ],
   "source": [
    "# D_clusters is the list of tuples where first element is distance of point x  to  Center,\n",
    "# and second element is the distance of that point to t\n",
    "D_clusters = [(a,b) for a,b in zip(euclidean(c, X), euclidean(t, X))]\n",
    "D_clusters\n"
   ]
  },
  {
   "cell_type": "markdown",
   "metadata": {},
   "source": [
    "## 3.2 Clustering based on distances"
   ]
  },
  {
   "cell_type": "code",
   "execution_count": 11,
   "metadata": {},
   "outputs": [
    {
     "data": {
      "text/plain": [
       "array([0, 0, 0, 0, 0, 0, 0, 0, 0, 0, 0, 0, 0, 0, 0, 0, 0, 0, 0, 0, 0, 0,\n",
       "       0, 0, 0, 0, 0, 0, 0, 0, 0, 0, 0, 0, 0, 0, 0, 0, 0, 0, 0, 0, 0, 0,\n",
       "       0, 0, 0, 0, 0, 0, 0, 0, 0, 0, 0, 0, 0, 0, 0, 0, 0, 0, 0, 0, 0, 0,\n",
       "       0, 0, 0, 0, 0, 0, 0, 0, 0, 0, 0, 0, 0, 0, 0, 0, 0, 0, 0, 0, 0, 0,\n",
       "       0, 0, 0, 0, 0, 0, 0, 0, 0, 0, 0, 0, 1, 0, 1, 0, 1, 1, 0, 1, 1, 1,\n",
       "       0, 0, 1, 0, 0, 1, 0, 1, 1, 0, 1, 0, 1, 0, 1, 1, 0, 0, 1, 1, 1, 1,\n",
       "       1, 0, 0, 1, 1, 0, 0, 1, 1, 1, 0, 1, 1, 1, 0, 0, 0, 0])"
      ]
     },
     "execution_count": 11,
     "metadata": {},
     "output_type": "execute_result"
    }
   ],
   "source": [
    "clusters = np.argmin(D_clusters, axis=1)\n",
    "clusters"
   ]
  },
  {
   "cell_type": "code",
   "execution_count": 12,
   "metadata": {},
   "outputs": [
    {
     "data": {
      "text/plain": [
       "0.8923146651050666"
      ]
     },
     "execution_count": 12,
     "metadata": {},
     "output_type": "execute_result"
    }
   ],
   "source": [
    "# the maximum distance to c\n",
    "np.max(D_clusters,axis=0)[0]"
   ]
  },
  {
   "cell_type": "code",
   "execution_count": 13,
   "metadata": {},
   "outputs": [
    {
     "data": {
      "text/plain": [
       "(0.8923146651050666, 0.0)"
      ]
     },
     "execution_count": 13,
     "metadata": {},
     "output_type": "execute_result"
    }
   ],
   "source": [
    "# to check if distance with the farthest point (second element) is zero\n",
    "D_clusters[ind_t]"
   ]
  },
  {
   "cell_type": "markdown",
   "metadata": {},
   "source": [
    "## 3.3 update t"
   ]
  },
  {
   "cell_type": "code",
   "execution_count": 14,
   "metadata": {},
   "outputs": [
    {
     "data": {
      "text/plain": [
       "[100,\n",
       " 102,\n",
       " 104,\n",
       " 105,\n",
       " 107,\n",
       " 108,\n",
       " 109,\n",
       " 112,\n",
       " 115,\n",
       " 117,\n",
       " 118,\n",
       " 120,\n",
       " 122,\n",
       " 124,\n",
       " 125,\n",
       " 128,\n",
       " 129,\n",
       " 130,\n",
       " 131,\n",
       " 132,\n",
       " 135,\n",
       " 136,\n",
       " 139,\n",
       " 140,\n",
       " 141,\n",
       " 143,\n",
       " 144,\n",
       " 145]"
      ]
     },
     "execution_count": 14,
     "metadata": {},
     "output_type": "execute_result"
    }
   ],
   "source": [
    "cluster_t_indexes = list(np.where(clusters == 1)[0])\n",
    "cluster_t_indexes"
   ]
  },
  {
   "cell_type": "code",
   "execution_count": 15,
   "metadata": {},
   "outputs": [
    {
     "data": {
      "text/plain": [
       "array([[ 0.12685185,  0.10111111,  0.38      ,  0.54194444],\n",
       "       [ 0.34907407, -0.02388889,  0.36305085,  0.37527778],\n",
       "       [ 0.18240741, -0.02388889,  0.34610169,  0.41694444],\n",
       "       [ 0.48796296, -0.02388889,  0.48169492,  0.37527778],\n",
       "       [ 0.40462963, -0.06555556,  0.43084746,  0.25027778],\n",
       "       [ 0.23796296, -0.23222222,  0.34610169,  0.25027778],\n",
       "       [ 0.37685185,  0.22611111,  0.39694915,  0.54194444],\n",
       "       [ 0.26574074, -0.02388889,  0.29525424,  0.37527778],\n",
       "       [ 0.15462963,  0.05944444,  0.26135593,  0.45861111],\n",
       "       [ 0.51574074,  0.30944444,  0.49864407,  0.41694444],\n",
       "       [ 0.51574074, -0.19055556,  0.53254237,  0.45861111],\n",
       "       [ 0.29351852,  0.05944444,  0.32915254,  0.45861111],\n",
       "       [ 0.51574074, -0.10722222,  0.49864407,  0.33361111],\n",
       "       [ 0.23796296,  0.10111111,  0.32915254,  0.37527778],\n",
       "       [ 0.37685185,  0.05944444,  0.38      ,  0.25027778],\n",
       "       [ 0.15462963, -0.10722222,  0.31220339,  0.37527778],\n",
       "       [ 0.37685185, -0.02388889,  0.34610169,  0.16694444],\n",
       "       [ 0.43240741, -0.10722222,  0.39694915,  0.29194444],\n",
       "       [ 0.5712963 ,  0.30944444,  0.44779661,  0.33361111],\n",
       "       [ 0.15462963, -0.10722222,  0.31220339,  0.41694444],\n",
       "       [ 0.51574074, -0.02388889,  0.39694915,  0.45861111],\n",
       "       [ 0.12685185,  0.14277778,  0.31220339,  0.50027778],\n",
       "       [ 0.29351852,  0.01777778,  0.27830508,  0.37527778],\n",
       "       [ 0.23796296,  0.01777778,  0.31220339,  0.50027778],\n",
       "       [ 0.29351852,  0.01777778,  0.22745763,  0.45861111],\n",
       "       [ 0.26574074,  0.05944444,  0.36305085,  0.45861111],\n",
       "       [ 0.23796296,  0.10111111,  0.32915254,  0.54194444],\n",
       "       [ 0.23796296, -0.02388889,  0.24440678,  0.45861111]])"
      ]
     },
     "execution_count": 15,
     "metadata": {},
     "output_type": "execute_result"
    }
   ],
   "source": [
    "cluster_t = X[cluster_t_indexes]\n",
    "cluster_t"
   ]
  },
  {
   "cell_type": "code",
   "execution_count": 16,
   "metadata": {},
   "outputs": [
    {
     "data": {
      "text/plain": [
       "array([0.31931217, 0.01777778, 0.36244552, 0.4005754 ])"
      ]
     },
     "execution_count": 16,
     "metadata": {},
     "output_type": "execute_result"
    }
   ],
   "source": [
    "new_t = np.mean(X[cluster_t_indexes], axis=0)\n",
    "new_t"
   ]
  },
  {
   "cell_type": "markdown",
   "metadata": {},
   "source": [
    "## 3.4\n",
    "Put it in while loop and break when cluster_t does not chang\n"
   ]
  },
  {
   "cell_type": "code",
   "execution_count": 17,
   "metadata": {},
   "outputs": [
    {
     "name": "stdout",
     "output_type": "stream",
     "text": [
      "[50, 52, 54, 56, 70, 72, 76, 77, 83, 86, 100, 101, 102, 103, 104, 105, 107, 108, 109, 110, 111, 112, 113, 114, 115, 116, 117, 118, 119, 120, 121, 122, 123, 124, 125, 126, 127, 128, 129, 130, 131, 132, 133, 134, 135, 136, 137, 138, 139, 140, 141, 142, 143, 144, 145, 146, 147, 148, 149]\n",
      "6\n"
     ]
    }
   ],
   "source": [
    "cluster_t_indexes = []\n",
    "counter = 0\n",
    "while True:\n",
    "    D_clusters = [(a,b) for a,b in zip(euclidean(c, X), euclidean(t, X))]\n",
    "\n",
    "    clusters = np.argmin(D_clusters, axis=1)\n",
    "\n",
    "    new_cluster_t_indexes = list(np.where(clusters == 1)[0])\n",
    "\n",
    "    t = np.mean(X[new_cluster_t_indexes], axis=0)\n",
    "    \n",
    "    counter += 1\n",
    "    if cluster_t_indexes != new_cluster_t_indexes:\n",
    "        cluster_t_indexes = new_cluster_t_indexes\n",
    "        continue\n",
    "    else:\n",
    "        break\n",
    "\n",
    "print(cluster_t_indexes)\n",
    "print(counter)"
   ]
  },
  {
   "cell_type": "code",
   "execution_count": 18,
   "metadata": {},
   "outputs": [
    {
     "data": {
      "text/plain": [
       "59"
      ]
     },
     "execution_count": 18,
     "metadata": {},
     "output_type": "execute_result"
    }
   ],
   "source": [
    "len(cluster_t_indexes)"
   ]
  },
  {
   "cell_type": "markdown",
   "metadata": {},
   "source": [
    "# 4\n",
    "If |S1|>= theta (a parameter) then save t to Z."
   ]
  },
  {
   "cell_type": "code",
   "execution_count": 19,
   "metadata": {},
   "outputs": [
    {
     "name": "stdout",
     "output_type": "stream",
     "text": [
      "{0: (array([ 0.2111268 , -0.03165725,  0.28606148,  0.31313089]), 59)}\n"
     ]
    }
   ],
   "source": [
    "theta = 1\n",
    "cluster_t_cardinality = len(cluster_t_indexes)\n",
    "if cluster_t_cardinality >= 1:\n",
    "\n",
    "    Z[0] = (t, cluster_t_cardinality)\n",
    "print(Z)"
   ]
  },
  {
   "cell_type": "code",
   "execution_count": 20,
   "metadata": {},
   "outputs": [
    {
     "data": {
      "text/plain": [
       "[59]"
      ]
     },
     "execution_count": 20,
     "metadata": {},
     "output_type": "execute_result"
    }
   ],
   "source": [
    "Z.items()\n",
    "[v[0] for k,v in Z.items()] # --> [t]\n",
    "[v[1] for k,v in Z.items()] # --> [cluster_t_cardinality]"
   ]
  },
  {
   "cell_type": "code",
   "execution_count": 21,
   "metadata": {},
   "outputs": [
    {
     "data": {
      "text/plain": [
       "array([ 0.2111268 , -0.03165725,  0.28606148,  0.31313089])"
      ]
     },
     "execution_count": 21,
     "metadata": {},
     "output_type": "execute_result"
    }
   ],
   "source": [
    "t"
   ]
  },
  {
   "cell_type": "code",
   "execution_count": 22,
   "metadata": {},
   "outputs": [],
   "source": [
    "assert (t == list(Z[0])[0]).all()\n",
    "assert (cluster_t_cardinality == list(Z[0])[-1])"
   ]
  },
  {
   "cell_type": "markdown",
   "metadata": {},
   "source": [
    "# 5\n",
    "Remove S1 from Data set.\n"
   ]
  },
  {
   "cell_type": "code",
   "execution_count": 23,
   "metadata": {},
   "outputs": [],
   "source": [
    "# Residual indexes, after removing the cluster_t_indexes\n",
    "res_indexes = list(set(np.arange(X.shape[0])) - set(cluster_t_indexes))\n",
    "X = X[res_indexes]"
   ]
  },
  {
   "cell_type": "markdown",
   "metadata": {},
   "source": [
    "# 6 \n",
    "If there is still data, go back to Step 2.\n"
   ]
  },
  {
   "cell_type": "code",
   "execution_count": 24,
   "metadata": {},
   "outputs": [],
   "source": [
    "if len(res_indexes) >= 0:\n",
    "    pass\n",
    " # go to step 2 \n",
    "    "
   ]
  },
  {
   "cell_type": "markdown",
   "metadata": {},
   "source": [
    "# 7\n",
    "Run the usual kmeans on the whole data set with k=|Z|, and the points in Z as initial centroids.  "
   ]
  },
  {
   "cell_type": "code",
   "execution_count": 25,
   "metadata": {},
   "outputs": [
    {
     "name": "stderr",
     "output_type": "stream",
     "text": [
      "/home/mehrdad/anaconda3/envs/ai/lib/python3.10/site-packages/sklearn/cluster/_kmeans.py:1412: FutureWarning: The default value of `n_init` will change from 10 to 'auto' in 1.4. Set the value of `n_init` explicitly to suppress the warning\n",
      "  super()._check_params_vs_input(X, default_n_init=10)\n",
      "/home/mehrdad/anaconda3/envs/ai/lib/python3.10/site-packages/sklearn/cluster/_kmeans.py:1412: RuntimeWarning: Explicit initial center position passed: performing only one init in KMeans instead of n_init=10.\n",
      "  super()._check_params_vs_input(X, default_n_init=10)\n"
     ]
    },
    {
     "ename": "ValueError",
     "evalue": "setting an array element with a sequence. The requested array has an inhomogeneous shape after 2 dimensions. The detected shape was (1, 2) + inhomogeneous part.",
     "output_type": "error",
     "traceback": [
      "\u001b[0;31m---------------------------------------------------------------------------\u001b[0m",
      "\u001b[0;31mValueError\u001b[0m                                Traceback (most recent call last)",
      "Cell \u001b[0;32mIn[25], line 11\u001b[0m\n\u001b[1;32m      8\u001b[0m kmeans \u001b[39m=\u001b[39m KMeans(n_clusters\u001b[39m=\u001b[39mk, init\u001b[39m=\u001b[39minit_centers)\n\u001b[1;32m     10\u001b[0m \u001b[39m# Fit the model to the data\u001b[39;00m\n\u001b[0;32m---> 11\u001b[0m kmeans\u001b[39m.\u001b[39;49mfit(X)\n\u001b[1;32m     13\u001b[0m \u001b[39m# Get the cluster centers and the labels for each data point\u001b[39;00m\n\u001b[1;32m     14\u001b[0m cluster_centers \u001b[39m=\u001b[39m kmeans\u001b[39m.\u001b[39mcluster_centers_\n",
      "File \u001b[0;32m~/anaconda3/envs/ai/lib/python3.10/site-packages/sklearn/base.py:1151\u001b[0m, in \u001b[0;36m_fit_context.<locals>.decorator.<locals>.wrapper\u001b[0;34m(estimator, *args, **kwargs)\u001b[0m\n\u001b[1;32m   1144\u001b[0m     estimator\u001b[39m.\u001b[39m_validate_params()\n\u001b[1;32m   1146\u001b[0m \u001b[39mwith\u001b[39;00m config_context(\n\u001b[1;32m   1147\u001b[0m     skip_parameter_validation\u001b[39m=\u001b[39m(\n\u001b[1;32m   1148\u001b[0m         prefer_skip_nested_validation \u001b[39mor\u001b[39;00m global_skip_validation\n\u001b[1;32m   1149\u001b[0m     )\n\u001b[1;32m   1150\u001b[0m ):\n\u001b[0;32m-> 1151\u001b[0m     \u001b[39mreturn\u001b[39;00m fit_method(estimator, \u001b[39m*\u001b[39;49margs, \u001b[39m*\u001b[39;49m\u001b[39m*\u001b[39;49mkwargs)\n",
      "File \u001b[0;32m~/anaconda3/envs/ai/lib/python3.10/site-packages/sklearn/cluster/_kmeans.py:1490\u001b[0m, in \u001b[0;36mKMeans.fit\u001b[0;34m(self, X, y, sample_weight)\u001b[0m\n\u001b[1;32m   1488\u001b[0m init_is_array_like \u001b[39m=\u001b[39m _is_arraylike_not_scalar(init)\n\u001b[1;32m   1489\u001b[0m \u001b[39mif\u001b[39;00m init_is_array_like:\n\u001b[0;32m-> 1490\u001b[0m     init \u001b[39m=\u001b[39m check_array(init, dtype\u001b[39m=\u001b[39;49mX\u001b[39m.\u001b[39;49mdtype, copy\u001b[39m=\u001b[39;49m\u001b[39mTrue\u001b[39;49;00m, order\u001b[39m=\u001b[39;49m\u001b[39m\"\u001b[39;49m\u001b[39mC\u001b[39;49m\u001b[39m\"\u001b[39;49m)\n\u001b[1;32m   1491\u001b[0m     \u001b[39mself\u001b[39m\u001b[39m.\u001b[39m_validate_center_shape(X, init)\n\u001b[1;32m   1493\u001b[0m \u001b[39m# subtract of mean of x for more accurate distance computations\u001b[39;00m\n",
      "File \u001b[0;32m~/anaconda3/envs/ai/lib/python3.10/site-packages/sklearn/utils/validation.py:917\u001b[0m, in \u001b[0;36mcheck_array\u001b[0;34m(array, accept_sparse, accept_large_sparse, dtype, order, copy, force_all_finite, ensure_2d, allow_nd, ensure_min_samples, ensure_min_features, estimator, input_name)\u001b[0m\n\u001b[1;32m    915\u001b[0m         array \u001b[39m=\u001b[39m xp\u001b[39m.\u001b[39mastype(array, dtype, copy\u001b[39m=\u001b[39m\u001b[39mFalse\u001b[39;00m)\n\u001b[1;32m    916\u001b[0m     \u001b[39melse\u001b[39;00m:\n\u001b[0;32m--> 917\u001b[0m         array \u001b[39m=\u001b[39m _asarray_with_order(array, order\u001b[39m=\u001b[39;49morder, dtype\u001b[39m=\u001b[39;49mdtype, xp\u001b[39m=\u001b[39;49mxp)\n\u001b[1;32m    918\u001b[0m \u001b[39mexcept\u001b[39;00m ComplexWarning \u001b[39mas\u001b[39;00m complex_warning:\n\u001b[1;32m    919\u001b[0m     \u001b[39mraise\u001b[39;00m \u001b[39mValueError\u001b[39;00m(\n\u001b[1;32m    920\u001b[0m         \u001b[39m\"\u001b[39m\u001b[39mComplex data not supported\u001b[39m\u001b[39m\\n\u001b[39;00m\u001b[39m{}\u001b[39;00m\u001b[39m\\n\u001b[39;00m\u001b[39m\"\u001b[39m\u001b[39m.\u001b[39mformat(array)\n\u001b[1;32m    921\u001b[0m     ) \u001b[39mfrom\u001b[39;00m \u001b[39mcomplex_warning\u001b[39;00m\n",
      "File \u001b[0;32m~/anaconda3/envs/ai/lib/python3.10/site-packages/sklearn/utils/_array_api.py:380\u001b[0m, in \u001b[0;36m_asarray_with_order\u001b[0;34m(array, dtype, order, copy, xp)\u001b[0m\n\u001b[1;32m    378\u001b[0m     array \u001b[39m=\u001b[39m numpy\u001b[39m.\u001b[39marray(array, order\u001b[39m=\u001b[39morder, dtype\u001b[39m=\u001b[39mdtype)\n\u001b[1;32m    379\u001b[0m \u001b[39melse\u001b[39;00m:\n\u001b[0;32m--> 380\u001b[0m     array \u001b[39m=\u001b[39m numpy\u001b[39m.\u001b[39;49masarray(array, order\u001b[39m=\u001b[39;49morder, dtype\u001b[39m=\u001b[39;49mdtype)\n\u001b[1;32m    382\u001b[0m \u001b[39m# At this point array is a NumPy ndarray. We convert it to an array\u001b[39;00m\n\u001b[1;32m    383\u001b[0m \u001b[39m# container that is consistent with the input's namespace.\u001b[39;00m\n\u001b[1;32m    384\u001b[0m \u001b[39mreturn\u001b[39;00m xp\u001b[39m.\u001b[39masarray(array)\n",
      "\u001b[0;31mValueError\u001b[0m: setting an array element with a sequence. The requested array has an inhomogeneous shape after 2 dimensions. The detected shape was (1, 2) + inhomogeneous part."
     ]
    }
   ],
   "source": [
    "from sklearn.cluster import KMeans\n",
    "\n",
    "# Specify the number of clusters (K)\n",
    "k = len(Z)\n",
    "init_centers = [v for k,v in Z.items()]\n",
    "\n",
    "# Create the KMeans object\n",
    "kmeans = KMeans(n_clusters=k, init=init_centers)\n",
    "\n",
    "# Fit the model to the data\n",
    "kmeans.fit(X)\n",
    "\n",
    "# Get the cluster centers and the labels for each data point\n",
    "cluster_centers = kmeans.cluster_centers_\n",
    "labels = kmeans.labels_\n"
   ]
  },
  {
   "cell_type": "markdown",
   "metadata": {},
   "source": [
    "Lets put everything together\n"
   ]
  },
  {
   "cell_type": "code",
   "execution_count": null,
   "metadata": {},
   "outputs": [
    {
     "name": "stderr",
     "output_type": "stream",
     "text": [
      "/home/mehrdad/anaconda3/envs/unsupervised/lib/python3.11/site-packages/sklearn/cluster/_kmeans.py:870: FutureWarning: The default value of `n_init` will change from 10 to 'auto' in 1.4. Set the value of `n_init` explicitly to suppress the warning\n",
      "  warnings.warn(\n",
      "/home/mehrdad/anaconda3/envs/unsupervised/lib/python3.11/site-packages/sklearn/cluster/_kmeans.py:1362: RuntimeWarning: Explicit initial center position passed: performing only one init in KMeans instead of n_init=10.\n",
      "  super()._check_params_vs_input(X, default_n_init=10)\n"
     ]
    }
   ],
   "source": [
    "from sklearn.datasets import load_iris\n",
    "from sklearn.cluster import KMeans\n",
    "import numpy as np\n",
    "# Load the Iris dataset\n",
    "iris = load_iris()\n",
    "\n",
    "# Access the features (X) and target (y) data\n",
    "X = iris.data\n",
    "y = iris.target\n",
    "\n",
    "import numpy as np\n",
    "def normalizer(data):\n",
    "    return (data - np.mean(data,axis=0)) / (np.max(data, axis=0) - np.min(data, axis=0))\n",
    "X = normalizer(X)\n",
    "X_copy = X.copy()\n",
    "\n",
    "\n",
    "def euclidean(point, data):\n",
    "    \"\"\"\n",
    "    Euclidean distance between point & data.\n",
    "    Point has dimensions (m,), data has dimensions (n,m), and output will be of size (n,).\n",
    "    \"\"\"\n",
    "    return np.sqrt(np.sum((point - data)**2, axis=1))\n",
    "\n",
    "\n",
    "\n",
    "i_clusters = 0 # Number of clusters that we have found\n",
    "#1\n",
    "c = np.mean(X, axis=0) # c is not going to change in the loop\n",
    "\n",
    "while True:\n",
    "\n",
    "    #2 D is the list of Distances to the Center of all data\n",
    "    D = euclidean(c, X)\n",
    "    ind_t = np.argmax(D) # the farthest point to c\n",
    "    t = X[ind_t]\n",
    "\n",
    "    #3\n",
    "    cluster_t_indexes = []\n",
    "    while True:\n",
    "        D_clusters = [(a,b) for a,b in zip(euclidean(c, X), euclidean(t, X))]\n",
    "\n",
    "        clusters = np.argmin(D_clusters, axis=1)\n",
    "\n",
    "        new_cluster_t_indexes = list(np.where(clusters == 1)[0])\n",
    "\n",
    "        t = np.mean(X[new_cluster_t_indexes], axis=0)\n",
    "        \n",
    "        # counter += 1\n",
    "        if cluster_t_indexes != new_cluster_t_indexes:\n",
    "            cluster_t_indexes = new_cluster_t_indexes\n",
    "            continue\n",
    "        else:\n",
    "            break\n",
    "        \n",
    "    #4\n",
    "    theta = 1\n",
    "    if len(cluster_t_indexes) >= theta:\n",
    "        Z[i_clusters] = t\n",
    "        i_clusters += 1 \n",
    "    # else:\n",
    "    #     print('Cardinality for Cluster {t} is less than Theta ({theta})')\n",
    "    #     break # What should we do here? Remove cluster_t? \n",
    "\n",
    "    #5 Residual indexes, after removing the cluster_t_indexes\n",
    "    res_indexes = list(set(np.arange(X.shape[0])) - set(cluster_t_indexes))\n",
    "    X = X[res_indexes]\n",
    "\n",
    "    #6\n",
    "    if len(res_indexes) > 0:\n",
    "        continue\n",
    "    else:\n",
    "        break\n",
    "    \n",
    "#7\n",
    "\n",
    "# Specify the number of clusters (K)\n",
    "k = len(Z)\n",
    "init_centers = [v for k,v in Z.items()]\n",
    "\n",
    "# Create the KMeans object\n",
    "kmeans = KMeans(n_clusters=k, init=init_centers)\n",
    "\n",
    "# Fit the model to the data\n",
    "kmeans.fit(X_copy)\n",
    "\n",
    "# Get the cluster centers and the labels for each data point\n",
    "cluster_centers = kmeans.cluster_centers_\n",
    "labels = kmeans.labels_\n"
   ]
  },
  {
   "cell_type": "code",
   "execution_count": null,
   "metadata": {},
   "outputs": [
    {
     "data": {
      "text/plain": [
       "{0: array([ 0.2111268 , -0.03165725,  0.28606148,  0.31313089]),\n",
       " 1: array([-0.23259259,  0.15444444, -0.38915254, -0.39722222]),\n",
       " 2: array([-0.08981481, -0.25097222,  0.02322034, -0.00597222]),\n",
       " 3: array([ 0.08981481, -0.035     ,  0.11672316,  0.08083333]),\n",
       " 4: array([-0.12314815, -0.02388889,  0.12576271,  0.12527778]),\n",
       " 5: array([-0.05092593, -0.05722222,  0.04779661,  0.03361111])}"
      ]
     },
     "execution_count": 13,
     "metadata": {},
     "output_type": "execute_result"
    }
   ],
   "source": [
    "Z"
   ]
  },
  {
   "cell_type": "markdown",
   "metadata": {},
   "source": [
    "{0: array([ 0.2111268 , -0.03165725,  0.28606148,  0.31313089]),\n",
    " 1: array([-0.23259259,  0.15444444, -0.38915254, -0.39722222]),\n",
    " 2: array([-0.08981481, -0.25097222,  0.02322034, -0.00597222]),\n",
    " 3: array([ 0.08981481, -0.035     ,  0.11672316,  0.08083333]),\n",
    " 4: array([-0.12314815, -0.02388889,  0.12576271,  0.12527778]),\n",
    " 5: array([-0.05092593, -0.05722222,  0.04779661,  0.03361111])}"
   ]
  },
  {
   "cell_type": "code",
   "execution_count": 26,
   "metadata": {},
   "outputs": [
    {
     "ename": "NameError",
     "evalue": "name 'cluster_centers' is not defined",
     "output_type": "error",
     "traceback": [
      "\u001b[0;31m---------------------------------------------------------------------------\u001b[0m",
      "\u001b[0;31mNameError\u001b[0m                                 Traceback (most recent call last)",
      "Cell \u001b[0;32mIn[26], line 1\u001b[0m\n\u001b[0;32m----> 1\u001b[0m cluster_centers\n",
      "\u001b[0;31mNameError\u001b[0m: name 'cluster_centers' is not defined"
     ]
    }
   ],
   "source": [
    "cluster_centers"
   ]
  },
  {
   "cell_type": "code",
   "execution_count": 30,
   "metadata": {},
   "outputs": [
    {
     "data": {
      "image/png": "[encoded data removed]",
      "text/plain": [
       "<Figure size 640x480 with 1 Axes>"
      ]
     },
     "metadata": {},
     "output_type": "display_data"
    }
   ],
   "source": [
    "import numpy as np\n",
    "import matplotlib.pyplot as plt\n",
    "import seaborn as sns\n",
    "\n",
    "# Assuming you have already performed K-means clustering and obtained the cluster labels and centers\n",
    "\n",
    "# Create a scatter plot of the data points colored by cluster\n",
    "sns.scatterplot(x=X_copy[:, 2], y=X_copy[:, 3], hue=labels, palette='tab10')\n",
    "plt.scatter(cluster_centers[:, 2], cluster_centers[:, 3], marker='X', color='red', s=100)\n",
    "plt.xlabel('Petal Length (cm)')\n",
    "plt.ylabel('Petal Width (cm)')\n",
    "plt.title('K-means Clustering of Iris Dataset')\n",
    "plt.show()"
   ]
  },
  {
   "cell_type": "markdown",
   "metadata": {},
   "source": [
    "## Second part of Intelligent K-means"
   ]
  },
  {
   "cell_type": "code",
   "execution_count": 31,
   "metadata": {},
   "outputs": [
    {
     "name": "stderr",
     "output_type": "stream",
     "text": [
      "/home/mehrdad/anaconda3/envs/ai/lib/python3.10/site-packages/sklearn/cluster/_kmeans.py:1412: FutureWarning: The default value of `n_init` will change from 10 to 'auto' in 1.4. Set the value of `n_init` explicitly to suppress the warning\n",
      "  super()._check_params_vs_input(X, default_n_init=10)\n",
      "/home/mehrdad/anaconda3/envs/ai/lib/python3.10/site-packages/sklearn/cluster/_kmeans.py:1412: RuntimeWarning: Explicit initial center position passed: performing only one init in KMeans instead of n_init=10.\n",
      "  super()._check_params_vs_input(X, default_n_init=10)\n"
     ]
    }
   ],
   "source": [
    "from sklearn.datasets import load_iris\n",
    "from sklearn.cluster import KMeans\n",
    "import numpy as np\n",
    "# Load the Iris dataset\n",
    "iris = load_iris()\n",
    "\n",
    "# Access the features (X) and target (y) data\n",
    "X = iris.data\n",
    "y = iris.target\n",
    "\n",
    "import numpy as np\n",
    "def normalizer(data):\n",
    "    return (data - np.mean(data,axis=0)) / (np.max(data, axis=0) - np.min(data, axis=0))\n",
    "X = normalizer(X)\n",
    "X_copy = X.copy()\n",
    "\n",
    "true_k = 3\n",
    "\n",
    "i_clusters = 0 # Number of clusters that we have found\n",
    "#1\n",
    "c = np.mean(X, axis=0) # c is not going to change in the loop\n",
    "Z = {}\n",
    "\n",
    "while True:\n",
    "\n",
    "    #2 D is the list of Distances to the Center of all data\n",
    "    D = euclidean(c, X)\n",
    "    ind_t = np.argmax(D) # the farthest point to c\n",
    "    t = X[ind_t]\n",
    "\n",
    "    #3\n",
    "    cluster_t_indexes = []\n",
    "    while True:\n",
    "        D_clusters = [(a,b) for a,b in zip(euclidean(c, X), euclidean(t, X))]\n",
    "\n",
    "        clusters = np.argmin(D_clusters, axis=1)\n",
    "\n",
    "        new_cluster_t_indexes = list(np.where(clusters == 1)[0])\n",
    "\n",
    "        t = np.mean(X[new_cluster_t_indexes], axis=0)\n",
    "        \n",
    "        # counter += 1\n",
    "        if cluster_t_indexes != new_cluster_t_indexes:\n",
    "            cluster_t_indexes = new_cluster_t_indexes\n",
    "            continue\n",
    "        else:\n",
    "            break\n",
    "        \n",
    "    #4\n",
    "    theta = 1\n",
    "    cluster_t_cardinality =len(cluster_t_indexes)\n",
    "    if cluster_t_cardinality >= theta:\n",
    "        Z[i_clusters] = (t, cluster_t_cardinality)\n",
    "        i_clusters += 1 \n",
    "    # else:\n",
    "    #     print('Cardinality for Cluster {t} is less than Theta ({theta})')\n",
    "    #     break # What should we do here? Remove cluster_t? \n",
    "\n",
    "    #5 Residual indexes, after removing the cluster_t_indexes\n",
    "    res_indexes = list(set(np.arange(X.shape[0])) - set(cluster_t_indexes))\n",
    "    X = X[res_indexes]\n",
    "\n",
    "    #6\n",
    "    if len(res_indexes) > 0:\n",
    "        continue\n",
    "    else:\n",
    "        break\n",
    "#6.5\n",
    "\n",
    "deducted_z = [v for k, v in Z.items()]\n",
    "deducted_z = sorted(deducted_z, key=lambda x: x[-1], reverse = True)\n",
    "deducted_z = deducted_z[:true_k]\n",
    "deducted_z = [zz[0] for zz in deducted_z]\n",
    "deducted_z = np.array(deducted_z)\n",
    "    \n",
    "#7\n",
    "\n",
    "# Specify the number of clusters (K)\n",
    "k = len(deducted_z)\n",
    "# init_centers = [v[0] for k,v in Z.items()]\n",
    "\n",
    "# Create the KMeans object\n",
    "kmeans = KMeans(n_clusters=true_k, init=deducted_z)\n",
    "\n",
    "# Fit the model to the data\n",
    "kmeans.fit(X_copy)\n",
    "\n",
    "# Get the cluster centers and the labels for each data point\n",
    "cluster_centers = kmeans.cluster_centers_\n",
    "labels = kmeans.labels_\n"
   ]
  },
  {
   "cell_type": "code",
   "execution_count": 32,
   "metadata": {},
   "outputs": [
    {
     "data": {
      "text/plain": [
       "array([[ 0.23903134,  0.00255342,  0.28971317,  0.32399573],\n",
       "       [-0.23259259,  0.15444444, -0.38915254, -0.39722222],\n",
       "       [-0.01666667, -0.16364583,  0.0915113 ,  0.06277778]])"
      ]
     },
     "execution_count": 32,
     "metadata": {},
     "output_type": "execute_result"
    }
   ],
   "source": [
    "cluster_centers"
   ]
  },
  {
   "cell_type": "code",
   "execution_count": 33,
   "metadata": {},
   "outputs": [
    {
     "data": {
      "text/plain": [
       "array([[ 0.2111268 , -0.03165725,  0.28606148,  0.31313089],\n",
       "       [-0.23259259,  0.15444444, -0.38915254, -0.39722222],\n",
       "       [-0.08981481, -0.25097222,  0.02322034, -0.00597222]])"
      ]
     },
     "execution_count": 33,
     "metadata": {},
     "output_type": "execute_result"
    }
   ],
   "source": [
    "np.array(deducted_z)"
   ]
  },
  {
   "cell_type": "code",
   "execution_count": 34,
   "metadata": {},
   "outputs": [
    {
     "data": {
      "text/plain": [
       "array([1, 1, 1, 1, 1, 1, 1, 1, 1, 1, 1, 1, 1, 1, 1, 1, 1, 1, 1, 1, 1, 1,\n",
       "       1, 1, 1, 1, 1, 1, 1, 1, 1, 1, 1, 1, 1, 1, 1, 1, 1, 1, 1, 1, 1, 1,\n",
       "       1, 1, 1, 1, 1, 1, 0, 0, 0, 2, 2, 2, 0, 2, 2, 2, 2, 2, 2, 2, 2, 0,\n",
       "       2, 2, 2, 2, 0, 2, 2, 2, 2, 2, 0, 0, 2, 2, 2, 2, 2, 2, 2, 0, 0, 2,\n",
       "       2, 2, 2, 2, 2, 2, 2, 2, 2, 2, 2, 2, 0, 2, 0, 0, 0, 0, 2, 0, 0, 0,\n",
       "       0, 0, 0, 2, 0, 0, 0, 0, 0, 2, 0, 2, 0, 0, 0, 0, 0, 0, 0, 0, 0, 0,\n",
       "       0, 2, 2, 0, 0, 0, 0, 0, 0, 0, 2, 0, 0, 0, 0, 0, 0, 0], dtype=int32)"
      ]
     },
     "execution_count": 34,
     "metadata": {},
     "output_type": "execute_result"
    }
   ],
   "source": [
    "labels"
   ]
  },
  {
   "cell_type": "code",
   "execution_count": 35,
   "metadata": {},
   "outputs": [
    {
     "data": {
      "image/png": "[encoded data removed]",
      "text/plain": [
       "<Figure size 1200x600 with 2 Axes>"
      ]
     },
     "metadata": {},
     "output_type": "display_data"
    }
   ],
   "source": [
    "import numpy as np\n",
    "import matplotlib.pyplot as plt\n",
    "import seaborn as sns\n",
    "\n",
    "\n",
    "fig, axes = plt.subplots(1, 2, figsize=(12, 6))  # 1 row, 2 columns\n",
    "\n",
    "# Subplot 1: K-means Clustering\n",
    "sns.scatterplot(x=X_copy[:, 2], y=X_copy[:, 3], hue=labels, palette='tab10', ax=axes[0])\n",
    "axes[0].scatter(cluster_centers[:, 2], cluster_centers[:, 3], marker='X', color='red', s=200)\n",
    "axes[0].scatter(deducted_z[:, 2], deducted_z[:, 3], marker='o', color='black', s=50)\n",
    "axes[0].set_xlabel('Petal Length (cm)')\n",
    "axes[0].set_ylabel('Petal Width (cm)')\n",
    "axes[0].set_title('K-means Clustering of Iris Dataset')\n",
    "\n",
    "# Subplot 2: True Classes\n",
    "sns.scatterplot(x=X_copy[:, 2], y=X_copy[:, 3], hue=y, palette='tab10', ax=axes[1])\n",
    "axes[1].scatter(cluster_centers[:, 2], cluster_centers[:, 3], marker='X', color='red', s=200)\n",
    "axes[1].scatter(deducted_z[:, 2], deducted_z[:, 3], marker='o', color='black', s=50)\n",
    "axes[1].set_xlabel('Petal Length (cm)')\n",
    "axes[1].set_ylabel('Petal Width (cm)')\n",
    "axes[1].set_title('True Classes of Iris Dataset')\n",
    "\n",
    "# Adjust layout and display the plot\n",
    "plt.tight_layout()\n",
    "plt.show()"
   ]
  }
 ],
 "metadata": {
  "kernelspec": {
   "display_name": "Python 3 (Spyder)",
   "language": "python3",
   "name": "python3"
  },
  "language_info": {
   "codemirror_mode": {
    "name": "ipython",
    "version": 3
   },
   "file_extension": ".py",
   "mimetype": "text/x-python",
   "name": "python",
   "nbconvert_exporter": "python",
   "pygments_lexer": "ipython3",
   "version": "3.11.4"
  }
 },
 "nbformat": 4,
 "nbformat_minor": 4
}
